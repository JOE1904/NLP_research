{
  "cells": [
    {
      "cell_type": "markdown",
      "metadata": {
        "colab_type": "text",
        "id": "view-in-github"
      },
      "source": [
        "<a href=\"https://colab.research.google.com/github/JOE1904/NLP_research/blob/main/NER_model_Spacy.ipynb\" target=\"_parent\"><img src=\"https://colab.research.google.com/assets/colab-badge.svg\" alt=\"Open In Colab\"/></a>"
      ]
    },
    {
      "cell_type": "code",
      "execution_count": null,
      "metadata": {
        "id": "W8VRlA5_6LuR"
      },
      "outputs": [],
      "source": [
        "import PyPDF2\n",
        "import spacy\n",
        "\n",
        "def convert_pdf_to_text(pdf_path):\n",
        "    with open(pdf_path, 'rb') as file:\n",
        "        pdf_reader = PyPDF2.PdfReader(file)\n",
        "        text = ''\n",
        "        for page_num in range(len(pdf_reader.pages)):\n",
        "            text += pdf_reader.pages[page_num].extract_text()\n",
        "    return text\n",
        "\n",
        "def extract_proper_noun_phrases(text):\n",
        "    # Load the spaCy English language model\n",
        "    nlp = spacy.load(\"en_core_web_sm\")\n",
        "\n",
        "    # Process the text using spaCy\n",
        "    doc = nlp(text)\n",
        "\n",
        "    # Extract proper noun phrases\n",
        "    proper_noun_phrases = [\n",
        "        \" \".join([token.text for token in phrase])\n",
        "        for phrase in doc.noun_chunks\n",
        "        if any(token.pos_ == 'PROPN' for token in phrase)\n",
        "    ]\n",
        "\n",
        "    return proper_noun_phrases\n",
        "\n",
        "def main():\n",
        "    # Replace 'your_file_path.pdf' with the path to your uploaded file\n",
        "    file_path = 'your_file_path.pdf'\n",
        "\n",
        "    if file_path.endswith('.pdf'):\n",
        "        text = convert_pdf_to_text(file_path)\n",
        "    elif file_path.endswith('.txt'):\n",
        "        with open(file_path, 'r', encoding='utf-8') as txt_file:\n",
        "            text = txt_file.read()\n",
        "    else:\n",
        "        print(\"Unsupported file format. Please upload a PDF or TXT file.\")\n",
        "        return\n",
        "\n",
        "    proper_noun_phrases = extract_proper_noun_phrases(text)\n",
        "\n",
        "    # Display identified proper noun phrases\n",
        "    print(\"Proper Noun Phrases:\")\n",
        "    for phrase in proper_noun_phrases:\n",
        "        print(phrase)\n",
        "\n",
        "if __name__ == \"__main__\":\n",
        "    main()\n"
      ]
    },
    {
      "cell_type": "code",
      "execution_count": null,
      "metadata": {},
      "outputs": [],
      "source": []
    }
  ],
  "metadata": {
    "colab": {
      "authorship_tag": "ABX9TyNm9LDaw3DjkbGSu2a7d9AR",
      "include_colab_link": true,
      "provenance": []
    },
    "kernelspec": {
      "display_name": "Python 3",
      "name": "python3"
    },
    "language_info": {
      "name": "python"
    }
  },
  "nbformat": 4,
  "nbformat_minor": 0
}
